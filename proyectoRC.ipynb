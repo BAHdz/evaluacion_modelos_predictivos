{
 "cells": [
  {
   "cell_type": "code",
   "execution_count": 2,
   "id": "partial-nightlife",
   "metadata": {},
   "outputs": [],
   "source": [
    "import pandas as pd\n",
    "import numpy as np\n",
    "import seaborn as sns\n",
    "import matplotlib.pyplot as plt"
   ]
  },
  {
   "cell_type": "code",
   "execution_count": 3,
   "id": "swiss-south",
   "metadata": {},
   "outputs": [
    {
     "data": {
      "text/plain": [
       "(32581, 11)"
      ]
     },
     "execution_count": 3,
     "metadata": {},
     "output_type": "execute_result"
    }
   ],
   "source": [
    "df = pd.read_csv('cr_loan2.csv', index_col=0)\n",
    "df =pd.DataFrame(df)\n",
    "df.shape"
   ]
  },
  {
   "cell_type": "code",
   "execution_count": 4,
   "id": "chicken-event",
   "metadata": {},
   "outputs": [
    {
     "data": {
      "text/html": [
       "<div>\n",
       "<style scoped>\n",
       "    .dataframe tbody tr th:only-of-type {\n",
       "        vertical-align: middle;\n",
       "    }\n",
       "\n",
       "    .dataframe tbody tr th {\n",
       "        vertical-align: top;\n",
       "    }\n",
       "\n",
       "    .dataframe thead th {\n",
       "        text-align: right;\n",
       "    }\n",
       "</style>\n",
       "<table border=\"1\" class=\"dataframe\">\n",
       "  <thead>\n",
       "    <tr style=\"text-align: right;\">\n",
       "      <th></th>\n",
       "      <th>person_income</th>\n",
       "      <th>person_home_ownership</th>\n",
       "      <th>person_emp_length</th>\n",
       "      <th>loan_intent</th>\n",
       "      <th>loan_grade</th>\n",
       "      <th>loan_amnt</th>\n",
       "      <th>loan_int_rate</th>\n",
       "      <th>loan_status</th>\n",
       "      <th>loan_percent_income</th>\n",
       "      <th>cb_person_default_on_file</th>\n",
       "      <th>cb_person_cred_hist_length</th>\n",
       "    </tr>\n",
       "    <tr>\n",
       "      <th>person_age</th>\n",
       "      <th></th>\n",
       "      <th></th>\n",
       "      <th></th>\n",
       "      <th></th>\n",
       "      <th></th>\n",
       "      <th></th>\n",
       "      <th></th>\n",
       "      <th></th>\n",
       "      <th></th>\n",
       "      <th></th>\n",
       "      <th></th>\n",
       "    </tr>\n",
       "  </thead>\n",
       "  <tbody>\n",
       "    <tr>\n",
       "      <th>22</th>\n",
       "      <td>59000</td>\n",
       "      <td>RENT</td>\n",
       "      <td>123.0</td>\n",
       "      <td>PERSONAL</td>\n",
       "      <td>D</td>\n",
       "      <td>35000</td>\n",
       "      <td>16.02</td>\n",
       "      <td>1</td>\n",
       "      <td>0.59</td>\n",
       "      <td>Y</td>\n",
       "      <td>3</td>\n",
       "    </tr>\n",
       "    <tr>\n",
       "      <th>21</th>\n",
       "      <td>9600</td>\n",
       "      <td>OWN</td>\n",
       "      <td>5.0</td>\n",
       "      <td>EDUCATION</td>\n",
       "      <td>B</td>\n",
       "      <td>1000</td>\n",
       "      <td>11.14</td>\n",
       "      <td>0</td>\n",
       "      <td>0.10</td>\n",
       "      <td>N</td>\n",
       "      <td>2</td>\n",
       "    </tr>\n",
       "    <tr>\n",
       "      <th>25</th>\n",
       "      <td>9600</td>\n",
       "      <td>MORTGAGE</td>\n",
       "      <td>1.0</td>\n",
       "      <td>MEDICAL</td>\n",
       "      <td>C</td>\n",
       "      <td>5500</td>\n",
       "      <td>12.87</td>\n",
       "      <td>1</td>\n",
       "      <td>0.57</td>\n",
       "      <td>N</td>\n",
       "      <td>3</td>\n",
       "    </tr>\n",
       "    <tr>\n",
       "      <th>23</th>\n",
       "      <td>65500</td>\n",
       "      <td>RENT</td>\n",
       "      <td>4.0</td>\n",
       "      <td>MEDICAL</td>\n",
       "      <td>C</td>\n",
       "      <td>35000</td>\n",
       "      <td>15.23</td>\n",
       "      <td>1</td>\n",
       "      <td>0.53</td>\n",
       "      <td>N</td>\n",
       "      <td>2</td>\n",
       "    </tr>\n",
       "    <tr>\n",
       "      <th>24</th>\n",
       "      <td>54400</td>\n",
       "      <td>RENT</td>\n",
       "      <td>8.0</td>\n",
       "      <td>MEDICAL</td>\n",
       "      <td>C</td>\n",
       "      <td>35000</td>\n",
       "      <td>14.27</td>\n",
       "      <td>1</td>\n",
       "      <td>0.55</td>\n",
       "      <td>Y</td>\n",
       "      <td>4</td>\n",
       "    </tr>\n",
       "  </tbody>\n",
       "</table>\n",
       "</div>"
      ],
      "text/plain": [
       "            person_income person_home_ownership  person_emp_length  \\\n",
       "person_age                                                           \n",
       "22                  59000                  RENT              123.0   \n",
       "21                   9600                   OWN                5.0   \n",
       "25                   9600              MORTGAGE                1.0   \n",
       "23                  65500                  RENT                4.0   \n",
       "24                  54400                  RENT                8.0   \n",
       "\n",
       "           loan_intent loan_grade  loan_amnt  loan_int_rate  loan_status  \\\n",
       "person_age                                                                 \n",
       "22            PERSONAL          D      35000          16.02            1   \n",
       "21           EDUCATION          B       1000          11.14            0   \n",
       "25             MEDICAL          C       5500          12.87            1   \n",
       "23             MEDICAL          C      35000          15.23            1   \n",
       "24             MEDICAL          C      35000          14.27            1   \n",
       "\n",
       "            loan_percent_income cb_person_default_on_file  \\\n",
       "person_age                                                  \n",
       "22                         0.59                         Y   \n",
       "21                         0.10                         N   \n",
       "25                         0.57                         N   \n",
       "23                         0.53                         N   \n",
       "24                         0.55                         Y   \n",
       "\n",
       "            cb_person_cred_hist_length  \n",
       "person_age                              \n",
       "22                                   3  \n",
       "21                                   2  \n",
       "25                                   3  \n",
       "23                                   2  \n",
       "24                                   4  "
      ]
     },
     "execution_count": 4,
     "metadata": {},
     "output_type": "execute_result"
    }
   ],
   "source": [
    "df.head()"
   ]
  },
  {
   "cell_type": "code",
   "execution_count": 5,
   "id": "nearby-squad",
   "metadata": {},
   "outputs": [
    {
     "data": {
      "text/plain": [
       "Index(['person_income', 'person_home_ownership', 'person_emp_length',\n",
       "       'loan_intent', 'loan_grade', 'loan_amnt', 'loan_int_rate',\n",
       "       'loan_status', 'loan_percent_income', 'cb_person_default_on_file',\n",
       "       'cb_person_cred_hist_length'],\n",
       "      dtype='object')"
      ]
     },
     "execution_count": 5,
     "metadata": {},
     "output_type": "execute_result"
    }
   ],
   "source": [
    "df.columns"
   ]
  },
  {
   "cell_type": "code",
   "execution_count": 6,
   "id": "developing-government",
   "metadata": {},
   "outputs": [
    {
     "name": "stdout",
     "output_type": "stream",
     "text": [
      "<class 'pandas.core.frame.DataFrame'>\n",
      "Int64Index: 32581 entries, 22 to 66\n",
      "Data columns (total 11 columns):\n",
      " #   Column                      Non-Null Count  Dtype  \n",
      "---  ------                      --------------  -----  \n",
      " 0   person_income               32581 non-null  int64  \n",
      " 1   person_home_ownership       32581 non-null  object \n",
      " 2   person_emp_length           31686 non-null  float64\n",
      " 3   loan_intent                 32581 non-null  object \n",
      " 4   loan_grade                  32581 non-null  object \n",
      " 5   loan_amnt                   32581 non-null  int64  \n",
      " 6   loan_int_rate               29465 non-null  float64\n",
      " 7   loan_status                 32581 non-null  int64  \n",
      " 8   loan_percent_income         32581 non-null  float64\n",
      " 9   cb_person_default_on_file   32581 non-null  object \n",
      " 10  cb_person_cred_hist_length  32581 non-null  int64  \n",
      "dtypes: float64(3), int64(4), object(4)\n",
      "memory usage: 3.0+ MB\n"
     ]
    }
   ],
   "source": [
    "df.info()"
   ]
  },
  {
   "cell_type": "code",
   "execution_count": 7,
   "id": "focused-fever",
   "metadata": {},
   "outputs": [],
   "source": [
    "letra_int = {\n",
    "    \"RENT\" : \"1\",\n",
    "    \"OWN\" : \"2\",\n",
    "    \"MORTGAGE\" : \"3\",\n",
    "}\n",
    "\n",
    "intent = {\n",
    "    \"PERSONAL\" : \"1\",\n",
    "    \"EDUCATION\" : \"2\",\n",
    "    \"MEDICAL\" : \"3\",\n",
    "    \"HOMEIMPROVEMENT\" : \"4\"\n",
    "}\n",
    "\n",
    "grade = {\n",
    "    \"A\" :\"1\",\n",
    "    \"B\" : \"2\",\n",
    "    \"C\" : \"3\",\n",
    "    \"D\" : \"4\"\n",
    "}"
   ]
  },
  {
   "cell_type": "code",
   "execution_count": 8,
   "id": "painted-replication",
   "metadata": {},
   "outputs": [],
   "source": [
    "propiedad_casa = df['person_home_ownership'].map(letra_int)\n",
    "intencion_prestamo = df['loan_intent'].map(intent)\n",
    "calificacion = df['loan_grade'].map(grade)"
   ]
  },
  {
   "cell_type": "code",
   "execution_count": 9,
   "id": "sonic-boundary",
   "metadata": {},
   "outputs": [],
   "source": [
    "df['person_home_ownership'] = propiedad_casa"
   ]
  },
  {
   "cell_type": "code",
   "execution_count": 10,
   "id": "super-console",
   "metadata": {},
   "outputs": [],
   "source": [
    "df['loan_intent'] = intencion_prestamo"
   ]
  },
  {
   "cell_type": "code",
   "execution_count": 11,
   "id": "acceptable-marks",
   "metadata": {},
   "outputs": [],
   "source": [
    "df['loan_grade'] = calificacion"
   ]
  },
  {
   "cell_type": "code",
   "execution_count": 12,
   "id": "stable-charleston",
   "metadata": {},
   "outputs": [
    {
     "data": {
      "text/html": [
       "<div>\n",
       "<style scoped>\n",
       "    .dataframe tbody tr th:only-of-type {\n",
       "        vertical-align: middle;\n",
       "    }\n",
       "\n",
       "    .dataframe tbody tr th {\n",
       "        vertical-align: top;\n",
       "    }\n",
       "\n",
       "    .dataframe thead th {\n",
       "        text-align: right;\n",
       "    }\n",
       "</style>\n",
       "<table border=\"1\" class=\"dataframe\">\n",
       "  <thead>\n",
       "    <tr style=\"text-align: right;\">\n",
       "      <th></th>\n",
       "      <th>person_income</th>\n",
       "      <th>person_home_ownership</th>\n",
       "      <th>person_emp_length</th>\n",
       "      <th>loan_intent</th>\n",
       "      <th>loan_grade</th>\n",
       "      <th>loan_amnt</th>\n",
       "      <th>loan_int_rate</th>\n",
       "      <th>loan_status</th>\n",
       "      <th>loan_percent_income</th>\n",
       "      <th>cb_person_default_on_file</th>\n",
       "      <th>cb_person_cred_hist_length</th>\n",
       "    </tr>\n",
       "    <tr>\n",
       "      <th>person_age</th>\n",
       "      <th></th>\n",
       "      <th></th>\n",
       "      <th></th>\n",
       "      <th></th>\n",
       "      <th></th>\n",
       "      <th></th>\n",
       "      <th></th>\n",
       "      <th></th>\n",
       "      <th></th>\n",
       "      <th></th>\n",
       "      <th></th>\n",
       "    </tr>\n",
       "  </thead>\n",
       "  <tbody>\n",
       "    <tr>\n",
       "      <th>22</th>\n",
       "      <td>59000</td>\n",
       "      <td>1</td>\n",
       "      <td>123.0</td>\n",
       "      <td>1</td>\n",
       "      <td>4</td>\n",
       "      <td>35000</td>\n",
       "      <td>16.02</td>\n",
       "      <td>1</td>\n",
       "      <td>0.59</td>\n",
       "      <td>Y</td>\n",
       "      <td>3</td>\n",
       "    </tr>\n",
       "    <tr>\n",
       "      <th>21</th>\n",
       "      <td>9600</td>\n",
       "      <td>2</td>\n",
       "      <td>5.0</td>\n",
       "      <td>2</td>\n",
       "      <td>2</td>\n",
       "      <td>1000</td>\n",
       "      <td>11.14</td>\n",
       "      <td>0</td>\n",
       "      <td>0.10</td>\n",
       "      <td>N</td>\n",
       "      <td>2</td>\n",
       "    </tr>\n",
       "    <tr>\n",
       "      <th>25</th>\n",
       "      <td>9600</td>\n",
       "      <td>3</td>\n",
       "      <td>1.0</td>\n",
       "      <td>3</td>\n",
       "      <td>3</td>\n",
       "      <td>5500</td>\n",
       "      <td>12.87</td>\n",
       "      <td>1</td>\n",
       "      <td>0.57</td>\n",
       "      <td>N</td>\n",
       "      <td>3</td>\n",
       "    </tr>\n",
       "    <tr>\n",
       "      <th>23</th>\n",
       "      <td>65500</td>\n",
       "      <td>1</td>\n",
       "      <td>4.0</td>\n",
       "      <td>3</td>\n",
       "      <td>3</td>\n",
       "      <td>35000</td>\n",
       "      <td>15.23</td>\n",
       "      <td>1</td>\n",
       "      <td>0.53</td>\n",
       "      <td>N</td>\n",
       "      <td>2</td>\n",
       "    </tr>\n",
       "    <tr>\n",
       "      <th>24</th>\n",
       "      <td>54400</td>\n",
       "      <td>1</td>\n",
       "      <td>8.0</td>\n",
       "      <td>3</td>\n",
       "      <td>3</td>\n",
       "      <td>35000</td>\n",
       "      <td>14.27</td>\n",
       "      <td>1</td>\n",
       "      <td>0.55</td>\n",
       "      <td>Y</td>\n",
       "      <td>4</td>\n",
       "    </tr>\n",
       "    <tr>\n",
       "      <th>...</th>\n",
       "      <td>...</td>\n",
       "      <td>...</td>\n",
       "      <td>...</td>\n",
       "      <td>...</td>\n",
       "      <td>...</td>\n",
       "      <td>...</td>\n",
       "      <td>...</td>\n",
       "      <td>...</td>\n",
       "      <td>...</td>\n",
       "      <td>...</td>\n",
       "      <td>...</td>\n",
       "    </tr>\n",
       "    <tr>\n",
       "      <th>57</th>\n",
       "      <td>53000</td>\n",
       "      <td>3</td>\n",
       "      <td>1.0</td>\n",
       "      <td>1</td>\n",
       "      <td>3</td>\n",
       "      <td>5800</td>\n",
       "      <td>13.16</td>\n",
       "      <td>0</td>\n",
       "      <td>0.11</td>\n",
       "      <td>N</td>\n",
       "      <td>30</td>\n",
       "    </tr>\n",
       "    <tr>\n",
       "      <th>54</th>\n",
       "      <td>120000</td>\n",
       "      <td>3</td>\n",
       "      <td>4.0</td>\n",
       "      <td>1</td>\n",
       "      <td>1</td>\n",
       "      <td>17625</td>\n",
       "      <td>7.49</td>\n",
       "      <td>0</td>\n",
       "      <td>0.15</td>\n",
       "      <td>N</td>\n",
       "      <td>19</td>\n",
       "    </tr>\n",
       "    <tr>\n",
       "      <th>65</th>\n",
       "      <td>76000</td>\n",
       "      <td>1</td>\n",
       "      <td>3.0</td>\n",
       "      <td>4</td>\n",
       "      <td>2</td>\n",
       "      <td>35000</td>\n",
       "      <td>10.99</td>\n",
       "      <td>1</td>\n",
       "      <td>0.46</td>\n",
       "      <td>N</td>\n",
       "      <td>28</td>\n",
       "    </tr>\n",
       "    <tr>\n",
       "      <th>56</th>\n",
       "      <td>150000</td>\n",
       "      <td>3</td>\n",
       "      <td>5.0</td>\n",
       "      <td>1</td>\n",
       "      <td>2</td>\n",
       "      <td>15000</td>\n",
       "      <td>11.48</td>\n",
       "      <td>0</td>\n",
       "      <td>0.10</td>\n",
       "      <td>N</td>\n",
       "      <td>26</td>\n",
       "    </tr>\n",
       "    <tr>\n",
       "      <th>66</th>\n",
       "      <td>42000</td>\n",
       "      <td>1</td>\n",
       "      <td>2.0</td>\n",
       "      <td>3</td>\n",
       "      <td>2</td>\n",
       "      <td>6475</td>\n",
       "      <td>9.99</td>\n",
       "      <td>0</td>\n",
       "      <td>0.15</td>\n",
       "      <td>N</td>\n",
       "      <td>30</td>\n",
       "    </tr>\n",
       "  </tbody>\n",
       "</table>\n",
       "<p>32581 rows × 11 columns</p>\n",
       "</div>"
      ],
      "text/plain": [
       "            person_income person_home_ownership  person_emp_length  \\\n",
       "person_age                                                           \n",
       "22                  59000                     1              123.0   \n",
       "21                   9600                     2                5.0   \n",
       "25                   9600                     3                1.0   \n",
       "23                  65500                     1                4.0   \n",
       "24                  54400                     1                8.0   \n",
       "...                   ...                   ...                ...   \n",
       "57                  53000                     3                1.0   \n",
       "54                 120000                     3                4.0   \n",
       "65                  76000                     1                3.0   \n",
       "56                 150000                     3                5.0   \n",
       "66                  42000                     1                2.0   \n",
       "\n",
       "           loan_intent loan_grade  loan_amnt  loan_int_rate  loan_status  \\\n",
       "person_age                                                                 \n",
       "22                   1          4      35000          16.02            1   \n",
       "21                   2          2       1000          11.14            0   \n",
       "25                   3          3       5500          12.87            1   \n",
       "23                   3          3      35000          15.23            1   \n",
       "24                   3          3      35000          14.27            1   \n",
       "...                ...        ...        ...            ...          ...   \n",
       "57                   1          3       5800          13.16            0   \n",
       "54                   1          1      17625           7.49            0   \n",
       "65                   4          2      35000          10.99            1   \n",
       "56                   1          2      15000          11.48            0   \n",
       "66                   3          2       6475           9.99            0   \n",
       "\n",
       "            loan_percent_income cb_person_default_on_file  \\\n",
       "person_age                                                  \n",
       "22                         0.59                         Y   \n",
       "21                         0.10                         N   \n",
       "25                         0.57                         N   \n",
       "23                         0.53                         N   \n",
       "24                         0.55                         Y   \n",
       "...                         ...                       ...   \n",
       "57                         0.11                         N   \n",
       "54                         0.15                         N   \n",
       "65                         0.46                         N   \n",
       "56                         0.10                         N   \n",
       "66                         0.15                         N   \n",
       "\n",
       "            cb_person_cred_hist_length  \n",
       "person_age                              \n",
       "22                                   3  \n",
       "21                                   2  \n",
       "25                                   3  \n",
       "23                                   2  \n",
       "24                                   4  \n",
       "...                                ...  \n",
       "57                                  30  \n",
       "54                                  19  \n",
       "65                                  28  \n",
       "56                                  26  \n",
       "66                                  30  \n",
       "\n",
       "[32581 rows x 11 columns]"
      ]
     },
     "execution_count": 12,
     "metadata": {},
     "output_type": "execute_result"
    }
   ],
   "source": [
    "df"
   ]
  },
  {
   "cell_type": "code",
   "execution_count": 13,
   "id": "greenhouse-guide",
   "metadata": {},
   "outputs": [],
   "source": [
    "df_2 = df.drop(columns=['cb_person_default_on_file'])"
   ]
  },
  {
   "cell_type": "code",
   "execution_count": 14,
   "id": "federal-scene",
   "metadata": {},
   "outputs": [
    {
     "data": {
      "text/plain": [
       "Index(['person_income', 'person_home_ownership', 'person_emp_length',\n",
       "       'loan_intent', 'loan_grade', 'loan_amnt', 'loan_int_rate',\n",
       "       'loan_status', 'loan_percent_income', 'cb_person_cred_hist_length'],\n",
       "      dtype='object')"
      ]
     },
     "execution_count": 14,
     "metadata": {},
     "output_type": "execute_result"
    }
   ],
   "source": [
    "df_2.columns"
   ]
  },
  {
   "cell_type": "code",
   "execution_count": 15,
   "id": "unique-luxembourg",
   "metadata": {},
   "outputs": [
    {
     "name": "stdout",
     "output_type": "stream",
     "text": [
      "loan_status               0                     1                 \n",
      "loan_grade                1     2     3    4    1     2    3     4\n",
      "person_home_ownership                                             \n",
      "1                      3602  4222  2710  554  765  1338  981  1559\n",
      "2                       860   770   464  264   66    34   31    18\n",
      "3                      5219  3729  1934  658  239   324  321   553\n"
     ]
    }
   ],
   "source": [
    "print(pd.crosstab(df_2[\"person_home_ownership\"],[df_2[\"loan_status\"],df_2[\"loan_grade\"]]))"
   ]
  },
  {
   "cell_type": "code",
   "execution_count": 16,
   "id": "acquired-framework",
   "metadata": {},
   "outputs": [
    {
     "name": "stdout",
     "output_type": "stream",
     "text": [
      "loan_status                   0         1\n",
      "person_home_ownership                    \n",
      "1                      0.144611  0.264859\n",
      "2                      0.180013  0.297358\n",
      "3                      0.146504  0.184882\n"
     ]
    }
   ],
   "source": [
    "print(pd.crosstab(df_2[\"person_home_ownership\"], df_2[\"loan_status\"],values=df_2[\"loan_percent_income\"], aggfunc='mean'))"
   ]
  },
  {
   "cell_type": "code",
   "execution_count": 17,
   "id": "worldwide-spanking",
   "metadata": {},
   "outputs": [
    {
     "data": {
      "image/png": "[encoded data removed]",
      "text/plain": [
       "<Figure size 432x288 with 1 Axes>"
      ]
     },
     "metadata": {
      "needs_background": "light"
     },
     "output_type": "display_data"
    }
   ],
   "source": [
    "df_2.boxplot(column = [\"loan_percent_income\"], by = \"loan_status\")\n",
    "plt.title('Average Percent Income by Loan Status')\n",
    "plt.suptitle('')\n",
    "plt.show()"
   ]
  },
  {
   "cell_type": "code",
   "execution_count": 18,
   "id": "enhanced-leone",
   "metadata": {},
   "outputs": [
    {
     "data": {
      "image/png": "[encoded data removed]",
      "text/plain": [
       "<Figure size 432x288 with 1 Axes>"
      ]
     },
     "metadata": {
      "needs_background": "light"
     },
     "output_type": "display_data"
    }
   ],
   "source": [
    "n, bins, patches = plt.hist(x=df_2['loan_amnt'], bins='auto', color='blue',alpha=0.7, rwidth=0.85)\n",
    "plt.xlabel(\"Loan Amount\")\n",
    "plt.show()"
   ]
  },
  {
   "cell_type": "code",
   "execution_count": 19,
   "id": "established-leonard",
   "metadata": {},
   "outputs": [
    {
     "data": {
      "image/png": "[encoded data removed]",
      "text/plain": [
       "<Figure size 432x288 with 1 Axes>"
      ]
     },
     "metadata": {
      "needs_background": "light"
     },
     "output_type": "display_data"
    }
   ],
   "source": [
    "plt.scatter(df_2['person_emp_length'], df_2['person_income'],c='blue', alpha=0.5)\n",
    "plt.xlabel('Duración del empleo por persona en meses')\n",
    "plt.ylabel('Ingreso por persona')\n",
    "plt.show()"
   ]
  },
  {
   "cell_type": "code",
   "execution_count": 20,
   "id": "complete-layout",
   "metadata": {},
   "outputs": [],
   "source": [
    "import numpy as np\n",
    "import seaborn as sns\n",
    "import matplotlib.pyplot as plt"
   ]
  },
  {
   "cell_type": "code",
   "execution_count": 21,
   "id": "convenient-crossing",
   "metadata": {},
   "outputs": [
    {
     "name": "stderr",
     "output_type": "stream",
     "text": [
      "C:\\Users\\HP\\miniconda3\\lib\\site-packages\\seaborn\\_decorators.py:36: FutureWarning: Pass the following variable as a keyword arg: x. From version 0.12, the only valid positional argument will be `data`, and passing other arguments without an explicit keyword will result in an error or misinterpretation.\n",
      "  warnings.warn(\n"
     ]
    },
    {
     "data": {
      "text/plain": [
       "<AxesSubplot:xlabel='person_income'>"
      ]
     },
     "execution_count": 21,
     "metadata": {},
     "output_type": "execute_result"
    },
    {
     "data": {
      "image/png": "[encoded data removed]",
      "text/plain": [
       "<Figure size 720x504 with 1 Axes>"
      ]
     },
     "metadata": {},
     "output_type": "display_data"
    }
   ],
   "source": [
    "sns.set_style(\"ticks\")\n",
    "sns.color_palette(\"Blues\", as_cmap=True)\n",
    "ax = plt.subplots(figsize=(10, 7))\n",
    "\n",
    "sns.boxplot(df_2['person_income'])"
   ]
  },
  {
   "cell_type": "code",
   "execution_count": 22,
   "id": "accepting-championship",
   "metadata": {},
   "outputs": [
    {
     "data": {
      "image/png": "[encoded data removed]",
      "text/html": [
       "<div style=\"vertical-align: middle;\"><strong>Blues</strong> </div><div class=\"cmap\"><img alt=\"Blues colormap\" title=\"Blues\" style=\"border: 1px solid #555;\" src=\"data:image/png;base64,iVBORw0KGgoAAAANSUhEUgAAAgAAAABACAYAAABsv8+/AAAAFHRFWHRUaXRsZQBCbHVlcyBjb2xvcm1hcIbbCAEAAAAadEVYdERlc2NyaXB0aW9uAEJsdWVzIGNvbG9ybWFweISh5wAAADB0RVh0QXV0aG9yAE1hdHBsb3RsaWIgdjMuNC4xLCBodHRwczovL21hdHBsb3RsaWIub3JnmTvVjgAAADJ0RVh0U29mdHdhcmUATWF0cGxvdGxpYiB2My40LjEsIGh0dHBzOi8vbWF0cGxvdGxpYi5vcme3nUqpAAAB00lEQVR4nO3WwU7rMAAAQcP//y8HpIQDJQi3Vopa3uHtzCVynDhxCdK+vL3v+xhj7J+HcTmMy+E4P47x7fnjqgfnp8ct57/Xe2z+3v397/Pz77ON+XvYfze/OP81vn/+9ntuV+89z6/2d1l/Hh/X397fdhwX+5zWOV3/5Pz8HqfXLe9fvN/8+yzuv/p7zPNX+zj5Ts6et1pvsY9717v6bk72cz4+2df2rOf87rmPr/vzH281f+91z1rnr5439u3rhp/jbRqvrnv6+F8953P8OgCAHAEAAEECAACCBAAABAkAAAgSAAAQJAAAIEgAAECQAACAIAEAAEECAACCBAAABAkAAAgSAAAQJAAAIEgAAECQAACAIAEAAEECAACCBAAABAkAAAgSAAAQJAAAIEgAAECQAACAIAEAAEECAACCBAAABAkAAAgSAAAQJAAAIEgAAECQAACAIAEAAEECAACCBAAABAkAAAgSAAAQJAAAIEgAAECQAACAIAEAAEECAACCBAAABAkAAAgSAAAQJAAAIEgAAECQAACAIAEAAEECAACCBAAABAkAAAgSAAAQJAAAIEgAAECQAACAIAEAAEECAACCBAAABAkAAAgSAAAQJAAAIOgDfCcYQIPsTRMAAAAASUVORK5CYII=\"></div><div style=\"vertical-align: middle; max-width: 514px; display: flex; justify-content: space-between;\"><div style=\"float: left;\"><div title=\"#f7fbffff\" style=\"display: inline-block; width: 1em; height: 1em; margin: 0; vertical-align: middle; border: 1px solid #555; background-color: #f7fbffff;\"></div> under</div><div style=\"margin: 0 auto; display: inline-block;\">bad <div title=\"#00000000\" style=\"display: inline-block; width: 1em; height: 1em; margin: 0; vertical-align: middle; border: 1px solid #555; background-color: #00000000;\"></div></div><div style=\"float: right;\">over <div title=\"#08306bff\" style=\"display: inline-block; width: 1em; height: 1em; margin: 0; vertical-align: middle; border: 1px solid #555; background-color: #08306bff;\"></div></div>"
      ],
      "text/plain": [
       "<matplotlib.colors.LinearSegmentedColormap at 0x1b640be3190>"
      ]
     },
     "execution_count": 22,
     "metadata": {},
     "output_type": "execute_result"
    }
   ],
   "source": [
    "sns.color_palette(\"Blues\", as_cmap=True)"
   ]
  },
  {
   "cell_type": "markdown",
   "id": "spatial-tooth",
   "metadata": {},
   "source": [
    "MODELO"
   ]
  },
  {
   "cell_type": "code",
   "execution_count": 23,
   "id": "recent-folder",
   "metadata": {
    "tags": []
   },
   "outputs": [],
   "source": [
    "df_index = df_2.reset_index()"
   ]
  },
  {
   "cell_type": "code",
   "execution_count": 24,
   "id": "charged-hybrid",
   "metadata": {},
   "outputs": [
    {
     "data": {
      "image/png": "[encoded data removed]",
      "text/plain": [
       "<Figure size 576x432 with 2 Axes>"
      ]
     },
     "metadata": {},
     "output_type": "display_data"
    }
   ],
   "source": [
    "plt.figure(figsize=(8, 6))\n",
    "ax = sns.heatmap(df_index.corr(method = 'spearman'), vmin=-1, vmax=1, annot=True, cmap=\"YlGnBu\", linewidths=.5);"
   ]
  },
  {
   "cell_type": "code",
   "execution_count": 25,
   "id": "equivalent-sixth",
   "metadata": {},
   "outputs": [],
   "source": [
    "from sklearn.datasets import make_classification \n",
    "from sklearn.model_selection import train_test_split"
   ]
  },
  {
   "cell_type": "code",
   "execution_count": 26,
   "id": "aware-presence",
   "metadata": {},
   "outputs": [
    {
     "data": {
      "text/plain": [
       "person_age                      int64\n",
       "person_income                   int64\n",
       "person_home_ownership          object\n",
       "person_emp_length             float64\n",
       "loan_intent                    object\n",
       "loan_grade                     object\n",
       "loan_amnt                       int64\n",
       "loan_int_rate                 float64\n",
       "loan_status                     int64\n",
       "loan_percent_income           float64\n",
       "cb_person_cred_hist_length      int64\n",
       "dtype: object"
      ]
     },
     "execution_count": 26,
     "metadata": {},
     "output_type": "execute_result"
    }
   ],
   "source": [
    "df_index.dtypes"
   ]
  },
  {
   "cell_type": "code",
   "execution_count": 27,
   "id": "disabled-latino",
   "metadata": {},
   "outputs": [],
   "source": [
    "df_index = df_index.dropna(axis=0).copy()"
   ]
  },
  {
   "cell_type": "code",
   "execution_count": 28,
   "id": "nearby-lancaster",
   "metadata": {},
   "outputs": [],
   "source": [
    "df_index['person_home_ownership'] = df_index['person_home_ownership'].astype(int)\n",
    "df_index['loan_intent'] = df_index['loan_intent'].astype(int)\n",
    "df_index['loan_grade'] = df_index['loan_grade'].astype(int)"
   ]
  },
  {
   "cell_type": "code",
   "execution_count": 29,
   "id": "specific-pressure",
   "metadata": {},
   "outputs": [],
   "source": [
    "y = df_index[\"loan_status\"] \n",
    "X = df_index[[\"person_age\", 'person_income', 'person_home_ownership', 'person_emp_length',\n",
    "       'loan_intent', 'loan_grade', 'loan_amnt', 'loan_int_rate', 'loan_percent_income',\n",
    "       'cb_person_cred_hist_length']]"
   ]
  },
  {
   "cell_type": "code",
   "execution_count": 30,
   "id": "english-lying",
   "metadata": {},
   "outputs": [],
   "source": [
    "X_test, X_train, y_test, y_train = train_test_split(X, y, test_size = 0.3)"
   ]
  },
  {
   "cell_type": "code",
   "execution_count": 31,
   "id": "competent-collective",
   "metadata": {},
   "outputs": [],
   "source": [
    "from sklearn.metrics import confusion_matrix\n",
    "\n",
    "def calcularAccuracy(TP, TN, FP, FN):\n",
    "    accuracy = (TP + TN) / (TP + TN + FP + FN)\n",
    "    accuracy = accuracy * 100\n",
    "    return accuracy\n",
    "def calcularSensibilidad(TP, TN, FP, FN):\n",
    "    sensibilidad = TP / (TP + FN)\n",
    "    sensibilidad = sensibilidad * 100\n",
    "    return sensibilidad\n",
    "def calcularEspecificidad(TP, TN, FP, FN):\n",
    "    especificidad = TN / (TN + FP)\n",
    "    especificidad = especificidad * 100\n",
    "    return especificidad\n",
    "\n",
    "def evaluar(y_test, y_pred):\n",
    "    resultado = confusion_matrix(y_test, y_pred)\n",
    "    print(resultado)\n",
    "    (TN, FP, FN, TP) = resultado.ravel()\n",
    "    print(\"True positives: \"+str(TP))\n",
    "    print(\"True negatives: \"+str(TN))\n",
    "    print(\"False positives: \"+str(FP))\n",
    "    print(\"False negative: \"+str(FN))\n",
    "\n",
    "    acc = calcularAccuracy(TP, TN, FP, FN)\n",
    "    sen = calcularSensibilidad(TP, TN, FP, FN)\n",
    "    spec = calcularEspecificidad(TP, TN, FP, FN)\n",
    "    print(\"Precision:\"+str(acc)+\"%\")\n",
    "    print(\"Sensibilidad:\"+str(sen)+\"%\")\n",
    "    print(\"Especificidad:\"+str(spec)+\"%\")"
   ]
  },
  {
   "cell_type": "markdown",
   "id": "center-projector",
   "metadata": {},
   "source": [
    "NAIVE BAYES "
   ]
  },
  {
   "cell_type": "code",
   "execution_count": 32,
   "id": "experimental-sally",
   "metadata": {},
   "outputs": [
    {
     "name": "stdout",
     "output_type": "stream",
     "text": [
      "[[9831  354]\n",
      " [1925  671]]\n",
      "True positives: 671\n",
      "True negatives: 9831\n",
      "False positives: 354\n",
      "False negative: 1925\n",
      "Precision:82.16884437837415%\n",
      "Sensibilidad:25.847457627118644%\n",
      "Especificidad:96.52430044182621%\n"
     ]
    }
   ],
   "source": [
    "from sklearn.naive_bayes import GaussianNB\n",
    "\n",
    "NaiveBayes = GaussianNB()# Inicializa el modelo\n",
    "NaiveBayes.fit(X_train, y_train) # Ajusta el modelo\n",
    "y_pred_nb = NaiveBayes.predict(X_test) # Genera la predicción \n",
    "\n",
    "evaluar(y_test, y_pred_nb)"
   ]
  },
  {
   "cell_type": "markdown",
   "id": "digital-battlefield",
   "metadata": {},
   "source": [
    "Support Vector Machine"
   ]
  },
  {
   "cell_type": "code",
   "execution_count": 33,
   "id": "coastal-sister",
   "metadata": {},
   "outputs": [
    {
     "name": "stdout",
     "output_type": "stream",
     "text": [
      "[[10185     0]\n",
      " [ 2596     0]]\n",
      "True positives: 0\n",
      "True negatives: 10185\n",
      "False positives: 0\n",
      "False negative: 2596\n",
      "Precision:79.68860026601988%\n",
      "Sensibilidad:0.0%\n",
      "Especificidad:100.0%\n"
     ]
    }
   ],
   "source": [
    "from sklearn.svm import SVC #Support Vector Classifier\n",
    "\n",
    "SupportVectorMachine =SVC() # Inicializa el modelo\n",
    "SupportVectorMachine.fit(X_train, y_train) # Ajusta el modelo\n",
    "y_pred_svm =  SupportVectorMachine.predict(X_test)# Genera la predicción \n",
    "\n",
    "evaluar(y_test, y_pred_svm)"
   ]
  },
  {
   "cell_type": "markdown",
   "id": "permanent-dover",
   "metadata": {},
   "source": [
    "Artificial Neuronal Network"
   ]
  },
  {
   "cell_type": "code",
   "execution_count": 34,
   "id": "prepared-yeast",
   "metadata": {},
   "outputs": [
    {
     "name": "stdout",
     "output_type": "stream",
     "text": [
      "[[10185     0]\n",
      " [ 2596     0]]\n",
      "True positives: 0\n",
      "True negatives: 10185\n",
      "False positives: 0\n",
      "False negative: 2596\n",
      "Precision:79.68860026601988%\n",
      "Sensibilidad:0.0%\n",
      "Especificidad:100.0%\n"
     ]
    }
   ],
   "source": [
    "from sklearn.neural_network import MLPClassifier\n",
    "\n",
    "NeuralNetwork =  MLPClassifier(hidden_layer_sizes=(10,6),# Inicializa el modelo\n",
    "                            max_iter=2000000,\n",
    "                            activation ='tanh',\n",
    "                            tol= 1e-8) #Ajusta el modelo\n",
    "NeuralNetwork.fit(X_train,y_train)\n",
    "\n",
    "y_pred_nn = NeuralNetwork.predict(X_test)# Genera la predicción\n",
    "\n",
    "evaluar(y_test, y_pred_nn)"
   ]
  },
  {
   "cell_type": "markdown",
   "id": "progressive-exercise",
   "metadata": {},
   "source": [
    "Random Forest"
   ]
  },
  {
   "cell_type": "code",
   "execution_count": 35,
   "id": "speaking-commons",
   "metadata": {},
   "outputs": [
    {
     "name": "stdout",
     "output_type": "stream",
     "text": [
      "[[10104    81]\n",
      " [  893  1703]]\n",
      "True positives: 1703\n",
      "True negatives: 10104\n",
      "False positives: 81\n",
      "False negative: 893\n",
      "Precision:92.3793130427979%\n",
      "Sensibilidad:65.60092449922959%\n",
      "Especificidad:99.20471281296024%\n"
     ]
    }
   ],
   "source": [
    "from sklearn.ensemble import RandomForestClassifier\n",
    "\n",
    "RandomForest =RandomForestClassifier(n_estimators = 800) # Inicializa el modelo\n",
    "RandomForest.fit(X_train, y_train)# Ajusta el modelo\n",
    "y_pred_rfc =  RandomForest.predict(X_test)#Genera la predicción\n",
    "\n",
    "evaluar(y_test, y_pred_rfc)"
   ]
  },
  {
   "cell_type": "code",
   "execution_count": 36,
   "id": "informed-sight",
   "metadata": {},
   "outputs": [],
   "source": [
    "def acc(y_test, y_pred):\n",
    "    resultado = confusion_matrix(y_test, y_pred)\n",
    "    (TN, FP, FN, TP) = resultado.ravel()\n",
    "    accuracy = (TP + TN) / (TP + TN + FP + FN)\n",
    "    accuracy = accuracy * 100\n",
    "    return accuracy\n",
    "\n",
    "def sec(y_test, y_pred):\n",
    "    resultado = confusion_matrix(y_test, y_pred)\n",
    "    (TN, FP, FN, TP) = resultado.ravel()\n",
    "    sensibilidad = TP / (TP + FN)\n",
    "    sensibilidad = sensibilidad * 100\n",
    "    return sensibilidad\n",
    "\n",
    "def esp(y_test, y_pred):\n",
    "    resultado = confusion_matrix(y_test, y_pred)\n",
    "    (TN, FP, FN, TP) = resultado.ravel()\n",
    "    especificidad = TN / (TN + FP)\n",
    "    especificidad = especificidad * 100\n",
    "    return especificidad"
   ]
  },
  {
   "cell_type": "code",
   "execution_count": 37,
   "id": "appreciated-forest",
   "metadata": {},
   "outputs": [],
   "source": [
    "from tabulate import tabulate"
   ]
  },
  {
   "cell_type": "code",
   "execution_count": 38,
   "id": "conventional-potato",
   "metadata": {},
   "outputs": [
    {
     "name": "stdout",
     "output_type": "stream",
     "text": [
      "                   Método    Accuracy    Sensibilidad    Especificidad\n",
      "-------------------------  ----------  --------------  ---------------\n",
      "              Naive Bayes       82.17           25.85            96.52\n",
      "   Support Vector Machine       79.69            0.00           100.00\n",
      "Artificial Neural Network       79.69            0.00           100.00\n",
      "            Random Forest       92.38           65.60            99.20\n"
     ]
    }
   ],
   "source": [
    "table = [['Naive Bayes', acc(y_test, y_pred_nb), sec(y_test, y_pred_nb), esp(y_test, y_pred_nb)],\n",
    "        ['Support Vector Machine', acc(y_test, y_pred_svm), sec(y_test, y_pred_svm), esp(y_test, y_pred_svm)],\n",
    "        ['Artificial Neural Network', acc(y_test, y_pred_nn), sec(y_test, y_pred_nn), esp(y_test, y_pred_nn)],\n",
    "        ['Random Forest', acc(y_test, y_pred_rfc), sec(y_test, y_pred_rfc), esp(y_test, y_pred_rfc)]]\n",
    "\n",
    "print(tabulate(table,\n",
    "               headers = ['Método', 'Accuracy', 'Sensibilidad', 'Especificidad'],\n",
    "               stralign = 'right',\n",
    "               floatfmt = '.2f',\n",
    "               tablefmt = 'simple'))"
   ]
  },
  {
   "cell_type": "code",
   "execution_count": 39,
   "id": "reliable-engineering",
   "metadata": {},
   "outputs": [],
   "source": [
    "from matplotlib import pyplot as plt\n",
    "from sklearn.metrics import roc_curve, roc_auc_score\n",
    "from sklearn.linear_model import LogisticRegression\n",
    "#X_test, X_train, y_test, y_train = train_test_split(X, y, test_size = 0.3)"
   ]
  },
  {
   "cell_type": "code",
   "execution_count": 40,
   "id": "pleasant-laptop",
   "metadata": {},
   "outputs": [
    {
     "name": "stdout",
     "output_type": "stream",
     "text": [
      "   loan_status  prob_default\n",
      "0            0      0.002960\n",
      "1            0      0.108324\n",
      "2            0      0.311969\n",
      "3            0      0.076891\n",
      "4            0      0.238832\n"
     ]
    }
   ],
   "source": [
    "clf_logistic = LogisticRegression(solver='lbfgs').fit(X_train, np.ravel(y_train))\n",
    "preds = clf_logistic.predict_proba(X_test)\n",
    "preds_df = pd.DataFrame(preds[:,1][0:5], columns = ['prob_default'])\n",
    "true_df = y_test.head()\n",
    "print(pd.concat([true_df.reset_index(drop = True), preds_df], axis = 1))"
   ]
  },
  {
   "cell_type": "code",
   "execution_count": 41,
   "id": "preliminary-component",
   "metadata": {},
   "outputs": [
    {
     "name": "stdout",
     "output_type": "stream",
     "text": [
      "0.8284171817541663\n"
     ]
    },
    {
     "data": {
      "image/png": "[encoded data removed]",
      "text/plain": [
       "<Figure size 432x288 with 1 Axes>"
      ]
     },
     "metadata": {},
     "output_type": "display_data"
    }
   ],
   "source": [
    "preds = clf_logistic.predict_proba(X_test)\n",
    "print(clf_logistic.score(X_test, y_test))\n",
    "\n",
    "prob_default = preds[:, 1]\n",
    "fallout, sensitivity, thresholds = roc_curve(y_test, prob_default)\n",
    "plt.plot(fallout, sensitivity, color = 'darkorange')\n",
    "plt.plot([0, 1], [0, 1], linestyle='--')\n",
    "plt.show()\n",
    "\n",
    "auc = roc_auc_score(y_test, prob_default)"
   ]
  }
 ],
 "metadata": {
  "kernelspec": {
   "display_name": "Python 3",
   "language": "python",
   "name": "python3"
  },
  "language_info": {
   "codemirror_mode": {
    "name": "ipython",
    "version": 3
   },
   "file_extension": ".py",
   "mimetype": "text/x-python",
   "name": "python",
   "nbconvert_exporter": "python",
   "pygments_lexer": "ipython3",
   "version": "3.8.5"
  }
 },
 "nbformat": 4,
 "nbformat_minor": 5
}
